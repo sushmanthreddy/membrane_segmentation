{
  "nbformat": 4,
  "nbformat_minor": 0,
  "metadata": {
    "colab": {
      "name": "torch_to_onnx.ipynb",
      "provenance": [],
      "collapsed_sections": []
    },
    "kernelspec": {
      "name": "python3",
      "display_name": "Python 3"
    },
    "language_info": {
      "name": "python"
    }
  },
  "cells": [
    {
      "cell_type": "markdown",
      "metadata": {
        "id": "xAk44VAUMcI4"
      },
      "source": [
        "### The goal is to export  the DevoLearn cell membrane segmentation model to ONNX and run inference using ONNX runtime.\n",
        "\n",
        "Link to tutorial - https://pytorch.org/tutorials/advanced/super_resolution_with_onnxruntime.html"
      ]
    },
    {
      "cell_type": "code",
      "metadata": {
        "id": "1cvIRtSg1xPj"
      },
      "source": [
        "!pip install segmentation-models-pytorch\n",
        "!pip install onnx\n",
        "!git clone https://github.com/DevoLearn/devolearn.git\n",
        "!pip install onnxruntime"
      ],
      "execution_count": null,
      "outputs": []
    },
    {
      "cell_type": "markdown",
      "metadata": {
        "id": "WI1phIjPDSHj"
      },
      "source": [
        "### Copy model into working directory:"
      ]
    },
    {
      "cell_type": "code",
      "metadata": {
        "id": "IMUYNfr61OOc"
      },
      "source": [
        "!cp -r /content/drive/MyDrive/mydata/3d_seg_data/best_2.pth /content/"
      ],
      "execution_count": 3,
      "outputs": []
    },
    {
      "cell_type": "markdown",
      "metadata": {
        "id": "P9r-q1crDZ74"
      },
      "source": [
        "### Import Libraries:"
      ]
    },
    {
      "cell_type": "code",
      "metadata": {
        "id": "bo1ngsVb1mhk"
      },
      "source": [
        "import torch\n",
        "import segmentation_models_pytorch as smp\n",
        "import torch.onnx\n",
        "import numpy as np\n",
        "import onnx\n",
        "import onnxruntime as ort\n",
        "\n",
        "import cv2\n",
        "import matplotlib.pyplot as plt\n",
        "from PIL import Image"
      ],
      "execution_count": 5,
      "outputs": []
    },
    {
      "cell_type": "markdown",
      "metadata": {
        "id": "plqmhQ3IDfIg"
      },
      "source": [
        "### Load model:\n",
        "`model.eval()` sets model to inference mode -\n",
        "* Normalization layers use running stats.\n",
        "* deactivate dropout layers"
      ]
    },
    {
      "cell_type": "code",
      "metadata": {
        "id": "Ah3kvIEh1fT4"
      },
      "source": [
        "model = torch.load('/content/best_2.pth', map_location='cpu')\n",
        "model.eval()"
      ],
      "execution_count": null,
      "outputs": []
    },
    {
      "cell_type": "markdown",
      "metadata": {
        "id": "ahpQaPJkELZi"
      },
      "source": [
        "### Define sample input `x` :\n",
        "* The values in this can be random as long as it is the right type and size.\n",
        "* In this case, `x` is a tensor, that corresponds to a batch of one single channel, 256x256 image.\n",
        "* Make sure `out` is valid."
      ]
    },
    {
      "cell_type": "code",
      "metadata": {
        "id": "v6aHqHs21vSK"
      },
      "source": [
        "x = torch.randn(1, 1, 256, 256, requires_grad=False)\n",
        "out=model(x)"
      ],
      "execution_count": null,
      "outputs": []
    },
    {
      "cell_type": "markdown",
      "metadata": {
        "id": "J5adRnBxFvr9"
      },
      "source": [
        "### Export model:\n"
      ]
    },
    {
      "cell_type": "code",
      "metadata": {
        "id": "Cgn1VgKi30dT"
      },
      "source": [
        "torch.onnx.export(model,                     # model being run\n",
        "                  x,                         # model input (or a tuple for multiple inputs)\n",
        "                  \"membrane_segmentor.onnx\", # where to save the model (can be a file or file-like object)\n",
        "                  export_params=True,        # store the trained parameter weights inside the model file\n",
        "                  opset_version=11,          # the ONNX version to export the model to\n",
        "                  do_constant_folding=True,  # whether to execute constant folding for optimization\n",
        "                  input_names = ['input'],   # the model's input names\n",
        "                  output_names = ['output'], # the model's output names\n",
        "                  dynamic_axes={'input' : {0 : 'batch_size'},    # variable length axes\n",
        "                                'output' : {0 : 'batch_size'}})"
      ],
      "execution_count": null,
      "outputs": []
    },
    {
      "cell_type": "markdown",
      "metadata": {
        "id": "RYPqPCKhGRzJ"
      },
      "source": [
        "### Define `expand_dims_twice`:\n"
      ]
    },
    {
      "cell_type": "code",
      "metadata": {
        "id": "vfHgRLatcbY3"
      },
      "source": [
        "def expand_dims_twice(arr):\n",
        "    norm=(arr-np.min(arr))/(np.max(arr)-np.min(arr)) #normalize\n",
        "    ret = np.expand_dims(np.expand_dims(norm, axis=0), axis=0)\n",
        "    return(ret)"
      ],
      "execution_count": 9,
      "outputs": []
    },
    {
      "cell_type": "markdown",
      "metadata": {
        "id": "mOY7WkrEI7xi"
      },
      "source": [
        "### Run inference from ONNX file:\n",
        "The output image below the following cell is inferred from the ONNX model."
      ]
    },
    {
      "cell_type": "code",
      "metadata": {
        "id": "dfAoZNQk4l9r",
        "colab": {
          "base_uri": "https://localhost:8080/",
          "height": 303
        },
        "outputId": "ee56876a-00a9-417e-9438-3c92e9b1219d"
      },
      "source": [
        "ort_session = ort.InferenceSession('membrane_segmentor.onnx')\n",
        "\n",
        "img = cv2.imread(\"/content/devolearn/devolearn/tests/sample_data/images/seg_sample.jpg\",0)\n",
        "resized = cv2.resize(img, (256,256),\n",
        "               interpolation = cv2.INTER_NEAREST)\n",
        "\n",
        "print(\"dims before expand_dims_twice - \", resized.shape)\n",
        "img_unsqueeze = expand_dims_twice(resized)\n",
        "print(\"dims after expand_dims_twice - \", img_unsqueeze.shape)\n",
        "\n",
        "onnx_outputs = ort_session.run(None, {'input': img_unsqueeze.astype('float32')})\n",
        "plt.imshow(onnx_outputs[0][0][0])\n",
        "plt.show()"
      ],
      "execution_count": 12,
      "outputs": [
        {
          "output_type": "stream",
          "text": [
            "dims before expand_dims_twice -  (256, 256)\n",
            "dims after expand_dims_twice -  (1, 1, 256, 256)\n"
          ],
          "name": "stdout"
        },
        {
          "output_type": "display_data",
          "data": {
            "image/png": "[encoded data removed]",
            "text/plain": [
              "<Figure size 432x288 with 1 Axes>"
            ]
          },
          "metadata": {
            "tags": [],
            "needs_background": "light"
          }
        }
      ]
    },
    {
      "cell_type": "code",
      "metadata": {
        "id": "YtmfEX4oqbCT"
      },
      "source": [
        ""
      ],
      "execution_count": null,
      "outputs": []
    }
  ]
}